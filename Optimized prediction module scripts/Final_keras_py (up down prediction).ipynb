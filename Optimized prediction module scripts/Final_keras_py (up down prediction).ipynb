{
  "nbformat": 4,
  "nbformat_minor": 0,
  "metadata": {
    "colab": {
      "name": "Final_keras.py",
      "provenance": [],
      "collapsed_sections": []
    },
    "kernelspec": {
      "name": "python3",
      "display_name": "Python 3"
    }
  },
  "cells": [
    {
      "cell_type": "code",
      "metadata": {
        "id": "Xw0WtR-Qk--w",
        "colab_type": "code",
        "outputId": "e5182111-fc84-4b7f-c55c-71e2c8868f5f",
        "colab": {
          "base_uri": "https://localhost:8080/",
          "height": 33
        }
      },
      "source": [
        "import pandas as pd\n",
        "from tensorflow.keras.models import Sequential\n",
        "from tensorflow.keras.layers import Dense\n",
        "from tensorflow.keras.wrappers.scikit_learn import KerasClassifier\n",
        "from keras.utils import np_utils\n",
        "from sklearn.model_selection import cross_val_score\n",
        "from sklearn.model_selection import KFold\n",
        "from sklearn.preprocessing import LabelEncoder\n",
        "from sklearn.pipeline import Pipeline\n",
        "from sklearn import datasets\n",
        "import numpy as np"
      ],
      "execution_count": 1,
      "outputs": [
        {
          "output_type": "stream",
          "text": [
            "Using TensorFlow backend.\n"
          ],
          "name": "stderr"
        }
      ]
    },
    {
      "cell_type": "code",
      "metadata": {
        "id": "kF5Z-zgolLx8",
        "colab_type": "code",
        "outputId": "35150a87-91c4-499d-e73f-c231472cd82d",
        "colab": {
          "resources": {
            "http://localhost:8080/nbextensions/google.colab/files.js": {
              "data": "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",
              "ok": true,
              "headers": [
                [
                  "content-type",
                  "application/javascript"
                ]
              ],
              "status": 200,
              "status_text": ""
            }
          },
          "base_uri": "https://localhost:8080/",
          "height": 74
        }
      },
      "source": [
        "from google.colab import files\n",
        "uploaded = files.upload()"
      ],
      "execution_count": 2,
      "outputs": [
        {
          "output_type": "display_data",
          "data": {
            "text/html": [
              "\n",
              "     <input type=\"file\" id=\"files-2d6ce884-e6da-4308-b03e-4faa79a63b89\" name=\"files[]\" multiple disabled />\n",
              "     <output id=\"result-2d6ce884-e6da-4308-b03e-4faa79a63b89\">\n",
              "      Upload widget is only available when the cell has been executed in the\n",
              "      current browser session. Please rerun this cell to enable.\n",
              "      </output>\n",
              "      <script src=\"/nbextensions/google.colab/files.js\"></script> "
            ],
            "text/plain": [
              "<IPython.core.display.HTML object>"
            ]
          },
          "metadata": {
            "tags": []
          }
        },
        {
          "output_type": "stream",
          "text": [
            "Saving up_down_only.xlsx to up_down_only.xlsx\n"
          ],
          "name": "stdout"
        }
      ]
    },
    {
      "cell_type": "code",
      "metadata": {
        "id": "ngPqqs8HmO2V",
        "colab_type": "code",
        "colab": {}
      },
      "source": [
        "import io\n",
        "df = pd.read_excel(io.BytesIO(uploaded['up_down_only.xlsx']), sep='\\t', encoding = 'utf-8')\n",
        "df = pd.DataFrame(df)"
      ],
      "execution_count": 0,
      "outputs": []
    },
    {
      "cell_type": "markdown",
      "metadata": {
        "id": "e5Q2njJYraad",
        "colab_type": "text"
      },
      "source": [
        "Equal up and down observations code, ONLY if necessary"
      ]
    },
    {
      "cell_type": "code",
      "metadata": {
        "colab_type": "code",
        "id": "yr4dorLcu0Er",
        "colab": {}
      },
      "source": [
        "df_down = df.iloc[0:93,]\n",
        "#df_not_diff = df.iloc[93:351,].sample(n=93)\n",
        "df_up = df.iloc[93:223,].sample(n=93)\n",
        "df_93_counts = pd.concat([df_down, df_up]).sample(frac=1)\n",
        "df=df_93_counts"
      ],
      "execution_count": 0,
      "outputs": []
    },
    {
      "cell_type": "markdown",
      "metadata": {
        "id": "eH_A8BQXrp6e",
        "colab_type": "text"
      },
      "source": [
        "93 counts code ends"
      ]
    },
    {
      "cell_type": "code",
      "metadata": {
        "id": "10cMW6GVv-Nm",
        "colab_type": "code",
        "colab": {}
      },
      "source": [
        "df = df.sample(frac=1)"
      ],
      "execution_count": 0,
      "outputs": []
    },
    {
      "cell_type": "code",
      "metadata": {
        "id": "PQRFdFV4gM5t",
        "colab_type": "code",
        "colab": {}
      },
      "source": [
        "'''Shit Held code to remove one feature'''\n",
        "try:\n",
        "  df = df.drop(columns='denovo_ubx')\n",
        "except:\n",
        "  print (\"Not Permissible\")"
      ],
      "execution_count": 0,
      "outputs": []
    },
    {
      "cell_type": "markdown",
      "metadata": {
        "id": "tSjPjRsOayQq",
        "colab_type": "text"
      },
      "source": [
        "Execute only to pass complete dataset"
      ]
    },
    {
      "cell_type": "code",
      "metadata": {
        "id": "GRZlbJqJqNMG",
        "colab_type": "code",
        "colab": {}
      },
      "source": [
        "A = df.iloc[:,1:49]\n",
        "B = df.iloc[:,49]\n",
        "\n",
        "encoder = LabelEncoder()\n",
        "encoder.fit(B)\n",
        "encoded_b = encoder.transform(B)\n",
        "# convert integers to dummy variables (i.e. one hot encoded)\n",
        "dummy_b = np_utils.to_categorical(encoded_b)\n"
      ],
      "execution_count": 0,
      "outputs": []
    },
    {
      "cell_type": "markdown",
      "metadata": {
        "id": "j_AfRVN6bAoF",
        "colab_type": "text"
      },
      "source": [
        "Complete dataset part ends"
      ]
    },
    {
      "cell_type": "code",
      "metadata": {
        "id": "Dv27Vk-LqmkG",
        "colab_type": "code",
        "colab": {}
      },
      "source": [
        "from sklearn.model_selection import train_test_split\n",
        "from sklearn.model_selection import StratifiedShuffleSplit\n",
        "from sklearn.metrics import confusion_matrix\n",
        "from sklearn.metrics import classification_report"
      ],
      "execution_count": 0,
      "outputs": []
    },
    {
      "cell_type": "markdown",
      "metadata": {
        "id": "rO5cqFHJYMzt",
        "colab_type": "text"
      },
      "source": [
        "Stratified split, balanced split"
      ]
    },
    {
      "cell_type": "code",
      "metadata": {
        "id": "cGVyOhJgWXct",
        "colab_type": "code",
        "colab": {}
      },
      "source": [
        "InputX = df.iloc[:,1:49]\n",
        "InputY = df.iloc[:,49]\n",
        "\n",
        "A1, A2, B1, B2 = train_test_split(InputX, InputY, test_size=0.25, stratify=InputY)\n",
        "\n",
        "encoder = LabelEncoder()\n",
        "encoder.fit(B1)\n",
        "encoded_b1 = encoder.transform(B1)\n",
        "dummy_b1 = np_utils.to_categorical(encoded_b1)"
      ],
      "execution_count": 0,
      "outputs": []
    },
    {
      "cell_type": "markdown",
      "metadata": {
        "id": "ucPdoR1EYylW",
        "colab_type": "text"
      },
      "source": [
        "Stratified split ends"
      ]
    },
    {
      "cell_type": "markdown",
      "metadata": {
        "id": "cTZbe6_oZWQ2",
        "colab_type": "text"
      },
      "source": [
        "*Unstratified* split starts"
      ]
    },
    {
      "cell_type": "code",
      "metadata": {
        "id": "zWpmIc4fqrEc",
        "colab_type": "code",
        "outputId": "61cb2cfc-9b0f-49b0-8e8d-5f63df1dcd09",
        "colab": {
          "base_uri": "https://localhost:8080/",
          "height": 53
        }
      },
      "source": [
        "'''train1, test1 = train_test_split(df, test_size=0.25)\n",
        "\n",
        "A1 = train1.iloc[:,1:49]\n",
        "B1 = train1.iloc[:,49]\n",
        "A2 = test1.iloc[:,1:49]\n",
        "B2 = test1.iloc[:,49]\n",
        "\n",
        "\n",
        "encoder = LabelEncoder()\n",
        "encoder.fit(B1)\n",
        "encoded_b1 = encoder.transform(B1)\n",
        "# convert integers to dummy variables (i.e. one hot encoded)\n",
        "dummy_b1 = np_utils.to_categorical(encoded_b1)\n",
        "'''"
      ],
      "execution_count": 0,
      "outputs": [
        {
          "output_type": "execute_result",
          "data": {
            "text/plain": [
              "'train1, test1 = train_test_split(df, test_size=0.25)\\n\\nA1 = train1.iloc[:,1:49]\\nB1 = train1.iloc[:,49]\\nA2 = test1.iloc[:,1:49]\\nB2 = test1.iloc[:,49]\\n\\n\\nencoder = LabelEncoder()\\nencoder.fit(B1)\\nencoded_b1 = encoder.transform(B1)\\n# convert integers to dummy variables (i.e. one hot encoded)\\ndummy_b1 = np_utils.to_categorical(encoded_b1)\\n'"
            ]
          },
          "metadata": {
            "tags": []
          },
          "execution_count": 24
        }
      ]
    },
    {
      "cell_type": "markdown",
      "metadata": {
        "id": "_j9hck81Z0Xl",
        "colab_type": "text"
      },
      "source": [
        "Unstratified split ends"
      ]
    },
    {
      "cell_type": "code",
      "metadata": {
        "id": "fZGJpIwzqtPG",
        "colab_type": "code",
        "colab": {}
      },
      "source": [
        "'''model = Sequential()\n",
        "model.add(Dense(43, input_dim=48, activation='relu'))\n",
        "model.add(Dense(38))\n",
        "model.add(Dense(33))\n",
        "model.add(Dense(28))\n",
        "model.add(Dense(23))\n",
        "model.add(Dense(18))\n",
        "model.add(Dense(13))\n",
        "model.add(Dense(8))\n",
        "model.add(Dense(2, activation='softmax'))\n",
        "model.compile(loss='categorical_crossentropy', optimizer='adam', metrics=['accuracy'])\n",
        "test = model.fit(A1,dummy_b1, epochs = 50, batch_size = 5)'''"
      ],
      "execution_count": 0,
      "outputs": []
    },
    {
      "cell_type": "markdown",
      "metadata": {
        "id": "hMF4a0FBS8lq",
        "colab_type": "text"
      },
      "source": [
        "Hyperparameters adjustment based on thumb rules"
      ]
    },
    {
      "cell_type": "code",
      "metadata": {
        "id": "3nm-29WuS75A",
        "colab_type": "code",
        "colab": {
          "base_uri": "https://localhost:8080/",
          "height": 1000
        },
        "outputId": "327aafc1-26f0-420e-f52f-12b18aa031d3"
      },
      "source": [
        "model = Sequential()\n",
        "model.add(Dense(43, input_dim=48, activation='relu'))\n",
        "model.add(Dense(16))\n",
        "model.add(Dense(8))\n",
        "model.add(Dense(4))\n",
        "model.add(Dense(2, activation='softmax'))\n",
        "model.compile(loss='categorical_crossentropy', optimizer='adam', metrics=['accuracy'])\n",
        "test = model.fit(A,dummy_b, epochs = 150, batch_size = 110) #batch size 10 optimal"
      ],
      "execution_count": 53,
      "outputs": [
        {
          "output_type": "stream",
          "text": [
            "Epoch 1/150\n",
            "3/3 [==============================] - 0s 2ms/step - loss: 0.7766 - accuracy: 0.5541\n",
            "Epoch 2/150\n",
            "3/3 [==============================] - 0s 2ms/step - loss: 0.7358 - accuracy: 0.5856\n",
            "Epoch 3/150\n",
            "3/3 [==============================] - 0s 2ms/step - loss: 0.7259 - accuracy: 0.5766\n",
            "Epoch 4/150\n",
            "3/3 [==============================] - 0s 2ms/step - loss: 0.6551 - accuracy: 0.5676\n",
            "Epoch 5/150\n",
            "3/3 [==============================] - 0s 2ms/step - loss: 0.5552 - accuracy: 0.5721\n",
            "Epoch 6/150\n",
            "3/3 [==============================] - 0s 2ms/step - loss: 0.6607 - accuracy: 0.5856\n",
            "Epoch 7/150\n",
            "3/3 [==============================] - 0s 2ms/step - loss: 0.5682 - accuracy: 0.5946\n",
            "Epoch 8/150\n",
            "3/3 [==============================] - 0s 3ms/step - loss: 0.7518 - accuracy: 0.6036\n",
            "Epoch 9/150\n",
            "3/3 [==============================] - 0s 2ms/step - loss: 0.6234 - accuracy: 0.5991\n",
            "Epoch 10/150\n",
            "3/3 [==============================] - 0s 2ms/step - loss: 0.6651 - accuracy: 0.5901\n",
            "Epoch 11/150\n",
            "3/3 [==============================] - 0s 2ms/step - loss: 0.7563 - accuracy: 0.6171\n",
            "Epoch 12/150\n",
            "3/3 [==============================] - 0s 2ms/step - loss: 0.5866 - accuracy: 0.6216\n",
            "Epoch 13/150\n",
            "3/3 [==============================] - 0s 2ms/step - loss: 0.5249 - accuracy: 0.6306\n",
            "Epoch 14/150\n",
            "3/3 [==============================] - 0s 2ms/step - loss: 0.6122 - accuracy: 0.6667\n",
            "Epoch 15/150\n",
            "3/3 [==============================] - 0s 2ms/step - loss: 0.6171 - accuracy: 0.6802\n",
            "Epoch 16/150\n",
            "3/3 [==============================] - 0s 2ms/step - loss: 0.6213 - accuracy: 0.7207\n",
            "Epoch 17/150\n",
            "3/3 [==============================] - 0s 2ms/step - loss: 0.6813 - accuracy: 0.6982\n",
            "Epoch 18/150\n",
            "3/3 [==============================] - 0s 2ms/step - loss: 0.7763 - accuracy: 0.6982\n",
            "Epoch 19/150\n",
            "3/3 [==============================] - 0s 2ms/step - loss: 0.4849 - accuracy: 0.7072\n",
            "Epoch 20/150\n",
            "3/3 [==============================] - 0s 2ms/step - loss: 0.6130 - accuracy: 0.6982\n",
            "Epoch 21/150\n",
            "3/3 [==============================] - 0s 2ms/step - loss: 0.5566 - accuracy: 0.6937\n",
            "Epoch 22/150\n",
            "3/3 [==============================] - 0s 2ms/step - loss: 0.6799 - accuracy: 0.6937\n",
            "Epoch 23/150\n",
            "3/3 [==============================] - 0s 2ms/step - loss: 0.5555 - accuracy: 0.7162\n",
            "Epoch 24/150\n",
            "3/3 [==============================] - 0s 2ms/step - loss: 0.5927 - accuracy: 0.7613\n",
            "Epoch 25/150\n",
            "3/3 [==============================] - 0s 2ms/step - loss: 0.4896 - accuracy: 0.7658\n",
            "Epoch 26/150\n",
            "3/3 [==============================] - 0s 2ms/step - loss: 0.6475 - accuracy: 0.7613\n",
            "Epoch 27/150\n",
            "3/3 [==============================] - 0s 2ms/step - loss: 0.5379 - accuracy: 0.7613\n",
            "Epoch 28/150\n",
            "3/3 [==============================] - 0s 2ms/step - loss: 0.6633 - accuracy: 0.7613\n",
            "Epoch 29/150\n",
            "3/3 [==============================] - 0s 3ms/step - loss: 0.5186 - accuracy: 0.7477\n",
            "Epoch 30/150\n",
            "3/3 [==============================] - 0s 3ms/step - loss: 0.4308 - accuracy: 0.7432\n",
            "Epoch 31/150\n",
            "3/3 [==============================] - 0s 2ms/step - loss: 0.5680 - accuracy: 0.7523\n",
            "Epoch 32/150\n",
            "3/3 [==============================] - 0s 2ms/step - loss: 0.4045 - accuracy: 0.7658\n",
            "Epoch 33/150\n",
            "3/3 [==============================] - 0s 2ms/step - loss: 0.5266 - accuracy: 0.7883\n",
            "Epoch 34/150\n",
            "3/3 [==============================] - 0s 2ms/step - loss: 0.5705 - accuracy: 0.7928\n",
            "Epoch 35/150\n",
            "3/3 [==============================] - 0s 2ms/step - loss: 0.7003 - accuracy: 0.7838\n",
            "Epoch 36/150\n",
            "3/3 [==============================] - 0s 2ms/step - loss: 0.6031 - accuracy: 0.7973\n",
            "Epoch 37/150\n",
            "3/3 [==============================] - 0s 2ms/step - loss: 0.4747 - accuracy: 0.7748\n",
            "Epoch 38/150\n",
            "3/3 [==============================] - 0s 2ms/step - loss: 0.5719 - accuracy: 0.7883\n",
            "Epoch 39/150\n",
            "3/3 [==============================] - 0s 2ms/step - loss: 0.4785 - accuracy: 0.7703\n",
            "Epoch 40/150\n",
            "3/3 [==============================] - 0s 3ms/step - loss: 0.4205 - accuracy: 0.7748\n",
            "Epoch 41/150\n",
            "3/3 [==============================] - 0s 1ms/step - loss: 0.4089 - accuracy: 0.7658\n",
            "Epoch 42/150\n",
            "3/3 [==============================] - 0s 2ms/step - loss: 0.4487 - accuracy: 0.7342\n",
            "Epoch 43/150\n",
            "3/3 [==============================] - 0s 2ms/step - loss: 0.4487 - accuracy: 0.7207\n",
            "Epoch 44/150\n",
            "3/3 [==============================] - 0s 2ms/step - loss: 0.6619 - accuracy: 0.7162\n",
            "Epoch 45/150\n",
            "3/3 [==============================] - 0s 2ms/step - loss: 0.4735 - accuracy: 0.7568\n",
            "Epoch 46/150\n",
            "3/3 [==============================] - 0s 2ms/step - loss: 0.5370 - accuracy: 0.7838\n",
            "Epoch 47/150\n",
            "3/3 [==============================] - 0s 2ms/step - loss: 0.4602 - accuracy: 0.7883\n",
            "Epoch 48/150\n",
            "3/3 [==============================] - 0s 2ms/step - loss: 0.4660 - accuracy: 0.7658\n",
            "Epoch 49/150\n",
            "3/3 [==============================] - 0s 2ms/step - loss: 0.6509 - accuracy: 0.7703\n",
            "Epoch 50/150\n",
            "3/3 [==============================] - 0s 2ms/step - loss: 0.5438 - accuracy: 0.7748\n",
            "Epoch 51/150\n",
            "3/3 [==============================] - 0s 3ms/step - loss: 0.6264 - accuracy: 0.7838\n",
            "Epoch 52/150\n",
            "3/3 [==============================] - 0s 2ms/step - loss: 0.5288 - accuracy: 0.7838\n",
            "Epoch 53/150\n",
            "3/3 [==============================] - 0s 2ms/step - loss: 0.5134 - accuracy: 0.7973\n",
            "Epoch 54/150\n",
            "3/3 [==============================] - 0s 2ms/step - loss: 0.5889 - accuracy: 0.8063\n",
            "Epoch 55/150\n",
            "3/3 [==============================] - 0s 2ms/step - loss: 0.5080 - accuracy: 0.8198\n",
            "Epoch 56/150\n",
            "3/3 [==============================] - 0s 2ms/step - loss: 0.5053 - accuracy: 0.8063\n",
            "Epoch 57/150\n",
            "3/3 [==============================] - 0s 2ms/step - loss: 0.3985 - accuracy: 0.8018\n",
            "Epoch 58/150\n",
            "3/3 [==============================] - 0s 3ms/step - loss: 0.5291 - accuracy: 0.8063\n",
            "Epoch 59/150\n",
            "3/3 [==============================] - 0s 2ms/step - loss: 0.4165 - accuracy: 0.8288\n",
            "Epoch 60/150\n",
            "3/3 [==============================] - 0s 2ms/step - loss: 0.3919 - accuracy: 0.8243\n",
            "Epoch 61/150\n",
            "3/3 [==============================] - 0s 2ms/step - loss: 0.5939 - accuracy: 0.8198\n",
            "Epoch 62/150\n",
            "3/3 [==============================] - 0s 2ms/step - loss: 0.4043 - accuracy: 0.8198\n",
            "Epoch 63/150\n",
            "3/3 [==============================] - 0s 2ms/step - loss: 0.5513 - accuracy: 0.8468\n",
            "Epoch 64/150\n",
            "3/3 [==============================] - 0s 2ms/step - loss: 0.4071 - accuracy: 0.8694\n",
            "Epoch 65/150\n",
            "3/3 [==============================] - 0s 4ms/step - loss: 0.4458 - accuracy: 0.8694\n",
            "Epoch 66/150\n",
            "3/3 [==============================] - 0s 2ms/step - loss: 0.4250 - accuracy: 0.8739\n",
            "Epoch 67/150\n",
            "3/3 [==============================] - 0s 2ms/step - loss: 0.3135 - accuracy: 0.8604\n",
            "Epoch 68/150\n",
            "3/3 [==============================] - 0s 2ms/step - loss: 0.3179 - accuracy: 0.8604\n",
            "Epoch 69/150\n",
            "3/3 [==============================] - 0s 2ms/step - loss: 0.4427 - accuracy: 0.8694\n",
            "Epoch 70/150\n",
            "3/3 [==============================] - 0s 2ms/step - loss: 0.3945 - accuracy: 0.8694\n",
            "Epoch 71/150\n",
            "3/3 [==============================] - 0s 2ms/step - loss: 0.3742 - accuracy: 0.8739\n",
            "Epoch 72/150\n",
            "3/3 [==============================] - 0s 2ms/step - loss: 0.4282 - accuracy: 0.8649\n",
            "Epoch 73/150\n",
            "3/3 [==============================] - 0s 2ms/step - loss: 0.4003 - accuracy: 0.8649\n",
            "Epoch 74/150\n",
            "3/3 [==============================] - 0s 3ms/step - loss: 0.3741 - accuracy: 0.8694\n",
            "Epoch 75/150\n",
            "3/3 [==============================] - 0s 3ms/step - loss: 0.3952 - accuracy: 0.8514\n",
            "Epoch 76/150\n",
            "3/3 [==============================] - 0s 2ms/step - loss: 0.3937 - accuracy: 0.8514\n",
            "Epoch 77/150\n",
            "3/3 [==============================] - 0s 2ms/step - loss: 0.2857 - accuracy: 0.8559\n",
            "Epoch 78/150\n",
            "3/3 [==============================] - 0s 2ms/step - loss: 0.4475 - accuracy: 0.8514\n",
            "Epoch 79/150\n",
            "3/3 [==============================] - 0s 3ms/step - loss: 0.3526 - accuracy: 0.8604\n",
            "Epoch 80/150\n",
            "3/3 [==============================] - 0s 5ms/step - loss: 0.3590 - accuracy: 0.8604\n",
            "Epoch 81/150\n",
            "3/3 [==============================] - 0s 2ms/step - loss: 0.2901 - accuracy: 0.8604\n",
            "Epoch 82/150\n",
            "3/3 [==============================] - 0s 3ms/step - loss: 0.5201 - accuracy: 0.8784\n",
            "Epoch 83/150\n",
            "3/3 [==============================] - 0s 2ms/step - loss: 0.3812 - accuracy: 0.8829\n",
            "Epoch 84/150\n",
            "3/3 [==============================] - 0s 3ms/step - loss: 0.3043 - accuracy: 0.8964\n",
            "Epoch 85/150\n",
            "3/3 [==============================] - 0s 3ms/step - loss: 0.2680 - accuracy: 0.8829\n",
            "Epoch 86/150\n",
            "3/3 [==============================] - 0s 2ms/step - loss: 0.3202 - accuracy: 0.8739\n",
            "Epoch 87/150\n",
            "3/3 [==============================] - 0s 4ms/step - loss: 0.4102 - accuracy: 0.8649\n",
            "Epoch 88/150\n",
            "3/3 [==============================] - 0s 2ms/step - loss: 0.2524 - accuracy: 0.8604\n",
            "Epoch 89/150\n",
            "3/3 [==============================] - 0s 2ms/step - loss: 0.3857 - accuracy: 0.8649\n",
            "Epoch 90/150\n",
            "3/3 [==============================] - 0s 2ms/step - loss: 0.3776 - accuracy: 0.8694\n",
            "Epoch 91/150\n",
            "3/3 [==============================] - 0s 2ms/step - loss: 0.3054 - accuracy: 0.8829\n",
            "Epoch 92/150\n",
            "3/3 [==============================] - 0s 2ms/step - loss: 0.7375 - accuracy: 0.9009\n",
            "Epoch 93/150\n",
            "3/3 [==============================] - 0s 3ms/step - loss: 0.3900 - accuracy: 0.9099\n",
            "Epoch 94/150\n",
            "3/3 [==============================] - 0s 2ms/step - loss: 0.2910 - accuracy: 0.8559\n",
            "Epoch 95/150\n",
            "3/3 [==============================] - 0s 2ms/step - loss: 0.3526 - accuracy: 0.8423\n",
            "Epoch 96/150\n",
            "3/3 [==============================] - 0s 2ms/step - loss: 0.3554 - accuracy: 0.8423\n",
            "Epoch 97/150\n",
            "3/3 [==============================] - 0s 2ms/step - loss: 0.3581 - accuracy: 0.8829\n",
            "Epoch 98/150\n",
            "3/3 [==============================] - 0s 2ms/step - loss: 0.4271 - accuracy: 0.8874\n",
            "Epoch 99/150\n",
            "3/3 [==============================] - 0s 2ms/step - loss: 0.3104 - accuracy: 0.8829\n",
            "Epoch 100/150\n",
            "3/3 [==============================] - 0s 2ms/step - loss: 0.2575 - accuracy: 0.8829\n",
            "Epoch 101/150\n",
            "3/3 [==============================] - 0s 2ms/step - loss: 0.3073 - accuracy: 0.8559\n",
            "Epoch 102/150\n",
            "3/3 [==============================] - 0s 2ms/step - loss: 0.2751 - accuracy: 0.8649\n",
            "Epoch 103/150\n",
            "3/3 [==============================] - 0s 2ms/step - loss: 0.3148 - accuracy: 0.8739\n",
            "Epoch 104/150\n",
            "3/3 [==============================] - 0s 2ms/step - loss: 0.2329 - accuracy: 0.8874\n",
            "Epoch 105/150\n",
            "3/3 [==============================] - 0s 3ms/step - loss: 0.3012 - accuracy: 0.9099\n",
            "Epoch 106/150\n",
            "3/3 [==============================] - 0s 2ms/step - loss: 0.2163 - accuracy: 0.9189\n",
            "Epoch 107/150\n",
            "3/3 [==============================] - 0s 2ms/step - loss: 0.2752 - accuracy: 0.9324\n",
            "Epoch 108/150\n",
            "3/3 [==============================] - 0s 2ms/step - loss: 0.2538 - accuracy: 0.9369\n",
            "Epoch 109/150\n",
            "3/3 [==============================] - 0s 2ms/step - loss: 0.3049 - accuracy: 0.9459\n",
            "Epoch 110/150\n",
            "3/3 [==============================] - 0s 3ms/step - loss: 0.2498 - accuracy: 0.9279\n",
            "Epoch 111/150\n",
            "3/3 [==============================] - 0s 2ms/step - loss: 0.4803 - accuracy: 0.9099\n",
            "Epoch 112/150\n",
            "3/3 [==============================] - 0s 2ms/step - loss: 0.2148 - accuracy: 0.9369\n",
            "Epoch 113/150\n",
            "3/3 [==============================] - 0s 2ms/step - loss: 0.2523 - accuracy: 0.9414\n",
            "Epoch 114/150\n",
            "3/3 [==============================] - 0s 3ms/step - loss: 0.2063 - accuracy: 0.9324\n",
            "Epoch 115/150\n",
            "3/3 [==============================] - 0s 2ms/step - loss: 0.2354 - accuracy: 0.9279\n",
            "Epoch 116/150\n",
            "3/3 [==============================] - 0s 2ms/step - loss: 0.2480 - accuracy: 0.9279\n",
            "Epoch 117/150\n",
            "3/3 [==============================] - 0s 2ms/step - loss: 0.2283 - accuracy: 0.9144\n",
            "Epoch 118/150\n",
            "3/3 [==============================] - 0s 3ms/step - loss: 0.1978 - accuracy: 0.9189\n",
            "Epoch 119/150\n",
            "3/3 [==============================] - 0s 3ms/step - loss: 0.2001 - accuracy: 0.9369\n",
            "Epoch 120/150\n",
            "3/3 [==============================] - 0s 3ms/step - loss: 0.1864 - accuracy: 0.9369\n",
            "Epoch 121/150\n",
            "3/3 [==============================] - 0s 2ms/step - loss: 0.2064 - accuracy: 0.9369\n",
            "Epoch 122/150\n",
            "3/3 [==============================] - 0s 2ms/step - loss: 0.1642 - accuracy: 0.9324\n",
            "Epoch 123/150\n",
            "3/3 [==============================] - 0s 2ms/step - loss: 0.2197 - accuracy: 0.9414\n",
            "Epoch 124/150\n",
            "3/3 [==============================] - 0s 2ms/step - loss: 0.1506 - accuracy: 0.9505\n",
            "Epoch 125/150\n",
            "3/3 [==============================] - 0s 2ms/step - loss: 0.1605 - accuracy: 0.9595\n",
            "Epoch 126/150\n",
            "3/3 [==============================] - 0s 3ms/step - loss: 0.2704 - accuracy: 0.9595\n",
            "Epoch 127/150\n",
            "3/3 [==============================] - 0s 3ms/step - loss: 0.1448 - accuracy: 0.9595\n",
            "Epoch 128/150\n",
            "3/3 [==============================] - 0s 2ms/step - loss: 0.1470 - accuracy: 0.9505\n",
            "Epoch 129/150\n",
            "3/3 [==============================] - 0s 2ms/step - loss: 0.3496 - accuracy: 0.9505\n",
            "Epoch 130/150\n",
            "3/3 [==============================] - 0s 2ms/step - loss: 0.1596 - accuracy: 0.9595\n",
            "Epoch 131/150\n",
            "3/3 [==============================] - 0s 2ms/step - loss: 0.1681 - accuracy: 0.9595\n",
            "Epoch 132/150\n",
            "3/3 [==============================] - 0s 2ms/step - loss: 0.2527 - accuracy: 0.9550\n",
            "Epoch 133/150\n",
            "3/3 [==============================] - 0s 2ms/step - loss: 0.1716 - accuracy: 0.9640\n",
            "Epoch 134/150\n",
            "3/3 [==============================] - 0s 2ms/step - loss: 0.1936 - accuracy: 0.9685\n",
            "Epoch 135/150\n",
            "3/3 [==============================] - 0s 3ms/step - loss: 0.1835 - accuracy: 0.9685\n",
            "Epoch 136/150\n",
            "3/3 [==============================] - 0s 3ms/step - loss: 0.1689 - accuracy: 0.9640\n",
            "Epoch 137/150\n",
            "3/3 [==============================] - 0s 2ms/step - loss: 0.1572 - accuracy: 0.9640\n",
            "Epoch 138/150\n",
            "3/3 [==============================] - 0s 2ms/step - loss: 0.1471 - accuracy: 0.9640\n",
            "Epoch 139/150\n",
            "3/3 [==============================] - 0s 2ms/step - loss: 0.1989 - accuracy: 0.9640\n",
            "Epoch 140/150\n",
            "3/3 [==============================] - 0s 2ms/step - loss: 0.1278 - accuracy: 0.9640\n",
            "Epoch 141/150\n",
            "3/3 [==============================] - 0s 2ms/step - loss: 0.2082 - accuracy: 0.9595\n",
            "Epoch 142/150\n",
            "3/3 [==============================] - 0s 2ms/step - loss: 0.1201 - accuracy: 0.9640\n",
            "Epoch 143/150\n",
            "3/3 [==============================] - 0s 2ms/step - loss: 0.1724 - accuracy: 0.9685\n",
            "Epoch 144/150\n",
            "3/3 [==============================] - 0s 2ms/step - loss: 0.1456 - accuracy: 0.9730\n",
            "Epoch 145/150\n",
            "3/3 [==============================] - 0s 2ms/step - loss: 0.1055 - accuracy: 0.9730\n",
            "Epoch 146/150\n",
            "3/3 [==============================] - 0s 2ms/step - loss: 0.1553 - accuracy: 0.9775\n",
            "Epoch 147/150\n",
            "3/3 [==============================] - 0s 2ms/step - loss: 0.1268 - accuracy: 0.9775\n",
            "Epoch 148/150\n",
            "3/3 [==============================] - 0s 2ms/step - loss: 0.1096 - accuracy: 0.9775\n",
            "Epoch 149/150\n",
            "3/3 [==============================] - 0s 2ms/step - loss: 0.1060 - accuracy: 0.9775\n",
            "Epoch 150/150\n",
            "3/3 [==============================] - 0s 2ms/step - loss: 0.1189 - accuracy: 0.9775\n"
          ],
          "name": "stdout"
        }
      ]
    },
    {
      "cell_type": "code",
      "metadata": {
        "id": "xAfGxlukqzS8",
        "colab_type": "code",
        "colab": {}
      },
      "source": [
        "dff = pd.DataFrame(model.predict(A2))\n",
        "dff.index = A2.index\n",
        "#dff.rename(columns={0:'Down',1:'Not_diff',2:'up'}, inplace=True)\n",
        "dff.rename(columns={0:'Down',1:'up'}, inplace=True)\n",
        "result = dff.idxmax(axis=1)\n",
        "result.index = dff.index"
      ],
      "execution_count": 0,
      "outputs": []
    },
    {
      "cell_type": "markdown",
      "metadata": {
        "id": "UXMrGP4UnVYk",
        "colab_type": "text"
      },
      "source": [
        "Removal of ambiguous results"
      ]
    },
    {
      "cell_type": "code",
      "metadata": {
        "colab_type": "code",
        "id": "tfZQ2qhfmelE",
        "colab": {}
      },
      "source": [
        "#print(dff[abs(dff.diff(axis=1)['up'])>0.4])\n",
        "b2df = B2[abs(dff.diff(axis=1)['up'])>0.1]\n",
        "r1 = result[abs(dff.diff(axis=1)['up'])>0.1]"
      ],
      "execution_count": 0,
      "outputs": []
    },
    {
      "cell_type": "code",
      "metadata": {
        "colab_type": "code",
        "outputId": "fd0db314-be31-49b1-951e-6c38d8aa639f",
        "id": "MaRS0cZYnnh1",
        "colab": {
          "base_uri": "https://localhost:8080/",
          "height": 418
        }
      },
      "source": [
        "print('Removed ambigious results')\n",
        "print(confusion_matrix(b2df, r1))\n",
        "print(classification_report(b2df, r1))\n",
        "\n",
        "print('All results')\n",
        "print(confusion_matrix(B2, result))\n",
        "print(classification_report(B2, result))"
      ],
      "execution_count": 58,
      "outputs": [
        {
          "output_type": "stream",
          "text": [
            "Removed ambigious results\n",
            "[[20  2]\n",
            " [ 1 32]]\n",
            "              precision    recall  f1-score   support\n",
            "\n",
            "        Down       0.95      0.91      0.93        22\n",
            "          up       0.94      0.97      0.96        33\n",
            "\n",
            "    accuracy                           0.95        55\n",
            "   macro avg       0.95      0.94      0.94        55\n",
            "weighted avg       0.95      0.95      0.95        55\n",
            "\n",
            "All results\n",
            "[[21  2]\n",
            " [ 1 32]]\n",
            "              precision    recall  f1-score   support\n",
            "\n",
            "        Down       0.95      0.91      0.93        23\n",
            "          up       0.94      0.97      0.96        33\n",
            "\n",
            "    accuracy                           0.95        56\n",
            "   macro avg       0.95      0.94      0.94        56\n",
            "weighted avg       0.95      0.95      0.95        56\n",
            "\n"
          ],
          "name": "stdout"
        }
      ]
    },
    {
      "cell_type": "markdown",
      "metadata": {
        "id": "engTSFjzbkoS",
        "colab_type": "text"
      },
      "source": [
        "################\n",
        "> Tracking Validation loss via plots"
      ]
    },
    {
      "cell_type": "code",
      "metadata": {
        "id": "41WA-skk349O",
        "colab_type": "code",
        "colab": {}
      },
      "source": [
        "import matplotlib.pyplot as plt\n",
        "plt.plot(test.history['acc'])\n",
        "plt.plot(test.history['val_acc'])\n",
        "plt.title('model accuracy')\n",
        "plt.ylabel('accuracy')\n",
        "plt.xlabel('epoch')\n",
        "plt.legend(['train', 'test'], loc='upper left')\n",
        "plt.show()"
      ],
      "execution_count": 0,
      "outputs": []
    },
    {
      "cell_type": "code",
      "metadata": {
        "id": "6dK9X_IBkSao",
        "colab_type": "code",
        "colab": {}
      },
      "source": [
        "# summarize history for loss\n",
        "plt.plot(test.history['loss'])\n",
        "plt.plot(test.history['val_loss'])\n",
        "plt.title('model loss')\n",
        "plt.ylabel('loss')\n",
        "plt.xlabel('epoch')\n",
        "plt.legend(['train', 'test'], loc='upper left')\n",
        "plt.show()"
      ],
      "execution_count": 0,
      "outputs": []
    },
    {
      "cell_type": "markdown",
      "metadata": {
        "id": "KeM35oWLkFbA",
        "colab_type": "text"
      },
      "source": [
        "Split for 93 counts"
      ]
    },
    {
      "cell_type": "code",
      "metadata": {
        "id": "q54Wlp28rEgM",
        "colab_type": "code",
        "colab": {}
      },
      "source": [
        "df_down = df.iloc[0:93,]\n",
        "df_not_diff = df.iloc[93:351,].sample(n=93)\n",
        "df_up = df.iloc[351:480,].sample(n=93)\n",
        "df_93_counts = pd.concat([df_down, df_not_diff, df_up]).sample(frac=1)\n",
        "df=df_93_counts"
      ],
      "execution_count": 0,
      "outputs": []
    }
  ]
}